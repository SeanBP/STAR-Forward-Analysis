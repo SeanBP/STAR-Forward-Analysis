{
 "cells": [
  {
   "cell_type": "code",
   "execution_count": 10,
   "metadata": {},
   "outputs": [],
   "source": [
    "import numpy as np\n",
    "import awkward as ak\n",
    "import fastjet"
   ]
  },
  {
   "cell_type": "code",
   "execution_count": 11,
   "metadata": {},
   "outputs": [
    {
     "name": "stdout",
     "output_type": "stream",
     "text": [
      "[1.2, 64.7]\n",
      "[3.2, 127]\n",
      "[5.4, 1.09e+03]\n"
     ]
    }
   ],
   "source": [
    "R= 0.7\n",
    "\n",
    "px = [1.2, 32.2, 32.45]\n",
    "py = [3.2, 64.21, 63.21]\n",
    "pz = [5.4, 543.34, 543.14]\n",
    "E = [2.5, 24.12, 24.56]\n",
    "\n",
    "momenta = [{\"px\": x, \"py\": y, \"pz\": z, \"E\": e} for x, y, z, e in zip(px, py, pz, E)]\n",
    "\n",
    "array = ak.Array(momenta, with_name=\"Momentum4D\")\n",
    "\n",
    "jetdef = fastjet.JetDefinition(fastjet.antikt_algorithm, R)\n",
    "cluster = fastjet.ClusterSequence(array, jetdef)\n",
    "\n",
    "inc_jets = cluster.inclusive_jets()\n",
    "\n",
    "print(inc_jets.px)\n",
    "print(inc_jets.py)\n",
    "print(inc_jets.pz)"
   ]
  },
  {
   "cell_type": "code",
   "execution_count": 15,
   "metadata": {},
   "outputs": [
    {
     "name": "stdout",
     "output_type": "stream",
     "text": [
      "[[{px: 1.2, py: 3.2, pz: 5.4, E: 2.5}, ..., {px: 32.5, py: 63.2, ...}], ...]\n",
      "[[1.2, 64.7], [1.2, 64.7]]\n",
      "[[3.2, 127], [3.2, 127]]\n",
      "[[5.4, 1.09e+03], [5.4, 1.09e+03]]\n"
     ]
    }
   ],
   "source": [
    "px = [[1.2, 32.2, 32.45], [1.2, 32.2, 32.45]]\n",
    "py = [[3.2, 64.21, 63.21], [3.2, 64.21, 63.21]]\n",
    "pz = [[5.4, 543.34, 543.14], [5.4, 543.34, 543.14]]\n",
    "E = [[2.5, 24.12, 24.56], [2.5, 24.12, 24.56]]\n",
    "det = [[1, 1, 1], [2, 2, 2]]\n",
    "\n",
    "events = []\n",
    "for i in range(len(px)):\n",
    "    momenta = [{\"px\": x, \"py\": y, \"pz\": z, \"E\": e, \"Det\": det} for x, y, z, e in zip(px[i], py[i], pz[i], E[i])]\n",
    "    events.append(momenta)\n",
    "\n",
    "array = ak.Array(events, with_name=\"Momentum4D\")\n",
    "print(array)\n",
    "jetdef = fastjet.JetDefinition(fastjet.antikt_algorithm, R)\n",
    "cluster = fastjet.ClusterSequence(array, jetdef)\n",
    "\n",
    "inc_jets = cluster.inclusive_jets()\n",
    "\n",
    "print(inc_jets.px)\n",
    "print(inc_jets.py)\n",
    "print(inc_jets.pz)\n"
   ]
  },
  {
   "cell_type": "code",
   "execution_count": 30,
   "metadata": {},
   "outputs": [
    {
     "name": "stdout",
     "output_type": "stream",
     "text": [
      "[[{px: 1.2, py: 3.2, pz: 5.4, E: 2.5, det: 1}, ..., {px: 32.5, ...}], ...]\n",
      "[[1.2, 64.7], [1.2, 64.7]]\n",
      "[[3.2, 127], [3.2, 127]]\n",
      "{'_cpp_type': None, '_layout': <ListOffsetArray len='2'>\n",
      "    <offsets><Index dtype='int64' len='3'>[0 2 4]</Index></offsets>\n",
      "    <content><RecordArray is_tuple='false' len='4'>\n",
      "        <parameter name='__record__'>'Momentum4D'</parameter>\n",
      "        <content index='0' field='px'>\n",
      "            <NumpyArray dtype='float64' len='4'>[ 1.2  64.65  1.2  64.65]</NumpyArray>\n",
      "        </content>\n",
      "        <content index='1' field='py'>\n",
      "            <NumpyArray dtype='float64' len='4'>[  3.2  127.42   3.2  127.42]</NumpyArray>\n",
      "        </content>\n",
      "        <content index='2' field='pz'>\n",
      "            <NumpyArray dtype='float64' len='4'>\n",
      "                [   5.4  1086.48    5.4  1086.48]\n",
      "            </NumpyArray>\n",
      "        </content>\n",
      "        <content index='3' field='E'>\n",
      "            <NumpyArray dtype='float64' len='4'>[ 2.5  48.68  2.5  48.68]</NumpyArray>\n",
      "        </content>\n",
      "    </RecordArray></content>\n",
      "</ListOffsetArray>, '_numbaview': None, '_behavior': {'byte': <class 'awkward.behaviors.string.ByteBehavior'>, ('__typestr__', 'byte'): 'byte', 'char': <class 'awkward.behaviors.string.CharBehavior'>, ('__typestr__', 'char'): 'char', 'bytestring': <class 'awkward.behaviors.string.ByteStringBehavior'>, ('__typestr__', 'bytestring'): 'bytes', 'string': <class 'awkward.behaviors.string.StringBehavior'>, ('__typestr__', 'string'): 'string', (<ufunc 'equal'>, 'bytestring', 'bytestring'): <function _string_equal at 0x7ff55bbd6a70>, (<ufunc 'equal'>, 'string', 'string'): <function _string_equal at 0x7ff55bbd6a70>, (<ufunc 'not_equal'>, 'bytestring', 'bytestring'): <function _string_notequal at 0x7ff55bbe23b0>, (<ufunc 'not_equal'>, 'string', 'string'): <function _string_notequal at 0x7ff55bbe23b0>, ('__broadcast__', 'bytestring'): <function _string_broadcast at 0x7ff55bbe2440>, ('__broadcast__', 'string'): <function _string_broadcast at 0x7ff55bbe2440>, ('__numba_typer__', 'bytestring'): <function _string_numba_typer at 0x7ff55bbe24d0>, ('__numba_lower__', 'bytestring'): <function _string_numba_lower at 0x7ff55bbe2560>, ('__numba_typer__', 'string'): <function _string_numba_typer at 0x7ff55bbe24d0>, ('__numba_lower__', 'string'): <function _string_numba_lower at 0x7ff55bbe2560>, ('__cast__', <class 'str'>): <function _cast_bytes_or_str_to_string at 0x7ff55bbe25f0>, ('__cast__', <class 'bytes'>): <function _cast_bytes_or_str_to_string at 0x7ff55bbe25f0>, 'categorical': <class 'awkward.behaviors.categorical.CategoricalBehavior'>, (<ufunc 'equal'>, 'categorical', 'categorical'): <function _categorical_equal at 0x7ff55bbda710>, (<class 'numpy.ufunc'>, 'categorical'): <function _apply_ufunc at 0x7ff55bbda7a0>}}\n",
      "[1, 1, 1, 2, 2, 2]\n"
     ]
    }
   ],
   "source": [
    "det = [[1, 1, 1], [2, 2, 2]]\n",
    "momenta = ak.zip(\n",
    "    {\n",
    "        \"px\": ak.Array(px),\n",
    "        \"py\": ak.Array(py),\n",
    "        \"pz\": ak.Array(pz),\n",
    "        \"E\": ak.Array(E),\n",
    "        \"det\": ak.Array(det)\n",
    "    }\n",
    ")\n",
    "\n",
    "allLorentz = ak.Array(momenta, with_name=\"Momentum4D\", behavior=ak.behavior)\n",
    "\n",
    "\n",
    "print(allLorentz)\n",
    "\n",
    "jetdef = fastjet.JetDefinition(fastjet.antikt_algorithm, R)\n",
    "cluster = fastjet.ClusterSequence(allLorentz, jetdef)\n",
    "\n",
    "inc_jets = cluster.inclusive_jets()\n",
    "\n",
    "print(inc_jets.px)\n",
    "print(inc_jets.py)\n",
    "print(inc_jets.__dict__)\n",
    "print(ak.flatten(det))"
   ]
  },
  {
   "cell_type": "code",
   "execution_count": null,
   "metadata": {},
   "outputs": [],
   "source": []
  }
 ],
 "metadata": {
  "kernelspec": {
   "display_name": "Python 3",
   "language": "python",
   "name": "python3"
  },
  "language_info": {
   "codemirror_mode": {
    "name": "ipython",
    "version": 3
   },
   "file_extension": ".py",
   "mimetype": "text/x-python",
   "name": "python",
   "nbconvert_exporter": "python",
   "pygments_lexer": "ipython3",
   "version": "3.7.6"
  }
 },
 "nbformat": 4,
 "nbformat_minor": 4
}

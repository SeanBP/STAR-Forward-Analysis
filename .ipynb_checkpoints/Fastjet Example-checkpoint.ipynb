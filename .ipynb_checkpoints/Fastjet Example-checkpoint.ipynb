{
 "cells": [
  {
   "cell_type": "code",
   "execution_count": 2,
   "metadata": {},
   "outputs": [],
   "source": [
    "import numpy as np\n",
    "import awkward as ak\n",
    "import fastjet"
   ]
  },
  {
   "cell_type": "code",
   "execution_count": 6,
   "metadata": {},
   "outputs": [
    {
     "name": "stdout",
     "output_type": "stream",
     "text": [
      "[[[99, 4, -99]]]\n",
      "[[[0.1, -0.1, 0]]]\n",
      "[[[0, 0, 0]]]\n"
     ]
    }
   ],
   "source": [
    "px = [[99.0, 4.0, -99.0]]\n",
    "py = [[0.1, -0.1, 0]]\n",
    "pz = [[0, 0, 0]]\n",
    "E = [[100.0, 5.0, 99.0]]\n",
    "R = 0.7\n",
    "\n",
    "lorentz = {\"px\": px, \"py\": py, \"pz\": pz, \"E\": E}\n",
    "allLorentz = ak.from_iter([lorentz])\n",
    "\n",
    "\n",
    "jetdef = fastjet.JetDefinition(fastjet.antikt_algorithm, R)\n",
    "cluster = fastjet.ClusterSequence(allLorentz, jetdef)\n",
    "\n",
    "inc_jets = cluster.inclusive_jets()\n",
    "\n",
    "print(inc_jets.px)\n",
    "print(inc_jets.py)\n",
    "print(inc_jets.pz)"
   ]
  },
  {
   "cell_type": "code",
   "execution_count": null,
   "metadata": {},
   "outputs": [],
   "source": []
  }
 ],
 "metadata": {
  "kernelspec": {
   "display_name": "Python 3",
   "language": "python",
   "name": "python3"
  },
  "language_info": {
   "codemirror_mode": {
    "name": "ipython",
    "version": 3
   },
   "file_extension": ".py",
   "mimetype": "text/x-python",
   "name": "python",
   "nbconvert_exporter": "python",
   "pygments_lexer": "ipython3",
   "version": "3.7.6"
  }
 },
 "nbformat": 4,
 "nbformat_minor": 4
}
